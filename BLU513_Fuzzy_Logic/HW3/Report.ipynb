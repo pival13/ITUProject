{
 "cells": [
  {
   "cell_type": "markdown",
   "metadata": {},
   "source": [
    "<small>*BLU513E - Fuzzy Logic Programming*</small><br>\n",
    "*Valentin L'HOMEL - 922110009*\n",
    "<h2><center>Homework 3</center></h2>"
   ]
  },
  {
   "cell_type": "markdown",
   "metadata": {},
   "source": [
    "### Exercice 3.5"
   ]
  },
  {
   "cell_type": "markdown",
   "metadata": {},
   "source": [
    "$I = \\frac{0.4}{0.8} + \\frac{0.7}{0.9} + \\frac{1}{1.0} + \\frac{0.8}{1.1} + \\frac{0.6}{1.2}$\n",
    "\n",
    "$V = \\frac{0.2}{30} + \\frac{0.6}{45} + \\frac{1}{60} + \\frac{0.9}{75} + \\frac{0.7}{90}$\n",
    "\n",
    "$C = \\frac{0.4}{0.5} + \\frac{1}{0.6} + \\frac{0.8}{0.7}$"
   ]
  },
  {
   "cell_type": "markdown",
   "metadata": {},
   "source": [
    "#### 1. Define the relation $P = V \\times I$"
   ]
  },
  {
   "cell_type": "markdown",
   "metadata": {},
   "source": [
    "$ \\mu_P(60,1.2) = \\min(\\mu_V(60),\\mu_I(1.2)) = 0.6 $\n",
    "\n",
    "$ P = \\begin{matrix} & \\begin{array}{ccccc}0.8&0.9&1.0&1.1&1.2\\end{array} \\\\ \\begin{array}{ccccc}30\\\\45\\\\60\\\\75\\\\90\\end{array} & \\begin{bmatrix}0.2&0.2&0.2&0.2&0.2\\\\0.4&0.6&0.6&0.6&0.6\\\\0.4&0.7&1&0.8&0.6\\\\0.4&0.7&0.9&0.8&0.6\\\\0.4&0.7&0.7&0.7&0.6\\end{bmatrix} \\end{matrix} $"
   ]
  },
  {
   "cell_type": "markdown",
   "metadata": {},
   "source": [
    "#### 2. Define the relation $T = I \\times C$"
   ]
  },
  {
   "cell_type": "markdown",
   "metadata": {},
   "source": [
    "$ \\mu_T(0.9,0.5) = \\min(\\mu_I(0.9),\\mu_C(0.5)) = 0.4 $\n",
    "\n",
    "$T = \\begin{matrix} & \\begin{array}{ccc}0.5&0.6&0.7\\end{array} \\\\ \\begin{array}{ccccc}0.8\\\\0.9\\\\1.0\\\\1.1\\\\1.2\\end{array} & \\begin{bmatrix}0.4&0.4&0.4\\\\0.4&0.7&0.7\\\\0.4&1&0.8\\\\0.4&0.8&0.8\\\\0.4&0.6&0.6\\end{bmatrix} \\end{matrix}$\n",
    "\n",
    "This relation associate the average current of a transistor with its price."
   ]
  },
  {
   "cell_type": "markdown",
   "metadata": {},
   "source": [
    "#### 3. Define the relation $E = P \\circ T$ using max-min composition"
   ]
  },
  {
   "cell_type": "markdown",
   "metadata": {},
   "source": [
    "Considering $X_I$ the universe of discourse of $I$.\n",
    "\n",
    "$ \\begin{array}{rl} \\mu_E(75,0.7) =& \\max\\limits_{x_i \\in X_I}[\\min(\\mu_P(75,x_i),\\mu_T(x_i,0.7))]\\\\ =& \\max(0.4,0.7,0.8,0.8,0.6)\\\\=&0.8 \\end{array} $\n",
    "\n",
    "$ E = \\begin{matrix} & \\begin{array}{ccc}0.5&0.6&0.7\\end{array} \\\\ \\begin{array}{ccccc}30\\\\45\\\\60\\\\75\\\\90\\end{array} & \\begin{bmatrix}0.2&0.2&0.2\\\\0.4&0.6&0.6\\\\0.4&1&0.8\\\\0.4&0.9&0.8\\\\0.4&0.7&0.7\\end{bmatrix} \\end{matrix}$\n",
    "\n",
    "This relation associate the average voltage of a transistor with its price."
   ]
  },
  {
   "cell_type": "markdown",
   "metadata": {},
   "source": [
    "#### 4. Define the same relation using max-product composition"
   ]
  },
  {
   "cell_type": "markdown",
   "metadata": {},
   "source": [
    "$ \\begin{array}{rl} \\mu_{E}(75,0.7) =& \\max\\limits_{x_i \\in X_I}[\\mu_P(75,x_i) \\cdot \\mu_T(x_i,0.7)]\\\\ =& \\max(0.16,0.49,0.72,0.64,0.36)\\\\=&0.72 \\end{array} $\n",
    "\n",
    "$ E = \\begin{matrix} & \\begin{array}{ccc}0.5&0.6&0.7\\end{array} \\\\ \\begin{array}{ccccc}30\\\\45\\\\60\\\\75\\\\90\\end{array} & \\begin{bmatrix}0.08&0.2&0.16\\\\0.24&0.6&0.48\\\\0.4&1&0.8\\\\0.36&0.9&0.72\\\\0.28&0.7&0.56\\\\\\end{bmatrix} \\end{matrix} $"
   ]
  },
  {
   "cell_type": "markdown",
   "metadata": {},
   "source": [
    "### Exercice 3.13"
   ]
  },
  {
   "cell_type": "markdown",
   "metadata": {},
   "source": [
    "$D = \\frac{1}{0} + \\frac{0.7}{1} + \\frac{0.3}{2}$\n",
    "\n",
    "$I_C = \\frac{0.5}{20} + \\frac{1}{30} + \\frac{0.6}{40}$\n",
    "\n",
    "$I_M = \\frac{0.7}{20} + \\frac{0.9}{30} + \\frac{0.4}{40}$"
   ]
  },
  {
   "cell_type": "markdown",
   "metadata": {},
   "source": [
    "#### 1. Define the relation $R = I_C \\times D$"
   ]
  },
  {
   "cell_type": "markdown",
   "metadata": {},
   "source": [
    "$ \\begin{array}{rl} R =& \\begin{matrix} & \\begin{array}{ccc}\\ 0\\ &\\ 1\\ &\\ 2\\ \\end{array} \\\\ \\begin{array}{ccc}20\\\\30\\\\40\\end{array} & \\begin{bmatrix}0.5&0.5&0.3\\\\1&0.7&0.3\\\\0.6&0.6&0.3\\end{bmatrix} \\end{matrix} \\\\ =& \\frac{0.5}{20,0} + \\frac{0.5}{20,1} + \\frac{0.3}{20,2} + \\frac{1}{30,0} + \\frac{0.7}{30,1} + \\frac{0.3}{30,2} + \\frac{0.6}{40,0} + \\frac{0.6}{40,1} + \\frac{0.3}{40,2} \\end{array} $"
   ]
  },
  {
   "cell_type": "markdown",
   "metadata": {},
   "source": [
    "#### 2. Define the relation $I_M \\circ R$ using max-min composition"
   ]
  },
  {
   "cell_type": "markdown",
   "metadata": {},
   "source": [
    "Considering $X_I$ the universe of discourse of $I_C$ and $I_M$.\n",
    "\n",
    "$ \\begin{array}{rl} \\mu_{I_M \\circ R}(x) =& \\max\\limits_{k \\in X_I}[\\min(\\mu_{I_M}(k), \\mu_{R}(k,x))] \\\\ =& \\max\\limits_{k \\in X_I}[\\min(\\mu_{I_M}(k), \\mu_{I_C}(k), \\mu_D(x))] \\\\ =& \\min(\\max\\limits_{k \\in X_I}[\\min(\\mu_{I_M}(k), \\mu_{I_C}(k))], \\mu_D(x)) \\\\ =& \\min(0.9, \\mu_D(x)) \\end{array} $\n",
    "\n",
    "$I_M \\circ R = \\frac{0.9}{0} + \\frac{0.7}{1} + \\frac{0.3}{2}$\n"
   ]
  },
  {
   "cell_type": "markdown",
   "metadata": {},
   "source": [
    "#### 3. Define the same relation using max-product composition"
   ]
  },
  {
   "cell_type": "markdown",
   "metadata": {},
   "source": [
    "$ \\begin{array}{rl} \\mu_{I_M \\circ R}(x) =& \\max\\limits_{k \\in X_I}[\\mu_{I_M}(k) \\cdot \\mu_{R}(k,x)] \\\\ =& \\max\\limits_{k \\in X_I}[\\min(\\mu_{I_M}(k) \\cdot \\mu_{I_C}(k), \\mu_{I_M}(k) \\cdot \\mu_D(x)] \\\\ =& \\min(\\max\\limits_{k \\in X_I}[\\mu_{I_M}(k) \\cdot \\mu_{I_C}(k)], \\max\\limits_{k \\in X_I}[\\mu_{I_M}(k) \\cdot \\mu_D(x)]) \\\\ =& \\min(0.9, 0.9 \\mu_D(x)) \\end{array} $\n",
    "\n",
    "$ I_M \\circ R = \\frac{0.9}{0} + \\frac{0.63}{1} + \\frac{0.27}{2} $"
   ]
  },
  {
   "cell_type": "markdown",
   "metadata": {},
   "source": [
    "### Exercise 3.21"
   ]
  },
  {
   "cell_type": "markdown",
   "metadata": {},
   "source": [
    "$ \\begin{array}{cc} & \\begin{array}{ccccc}S_1&S_2&S_3&S_4&S_5\\end{array} \\\\ \\begin{array}{lll}x_1\\text{ - Not infected}\\\\x_2\\text{ - Moderatly infected}\\\\x_3\\text{ - Seriously infected}\\end{array} & \\begin{bmatrix}0.6&0.3&0.1&0.9&0.8\\\\0.4&0.5&0.3&0.1&0.1\\\\0.0&0.2&0.6&0.0&0.1\\end{bmatrix} \\end{array} $\n",
    "\n",
    "#### Find the similarity relation"
   ]
  },
  {
   "cell_type": "markdown",
   "metadata": {},
   "source": [
    "$ \\begin{array}{rl} \\mu_R(S_2,S_3) =& \\frac{\\sum_k{\\min([x_k,S_2],[x_k,S_3])}}{\\sum_k{\\max([x_k,S_2],[x_k,S_3])}} \\\\ =& \\frac{0.1+0.3+0.2}{0.3+0.5+0.6} \\\\ =& \\frac{0.6}{1.4} \\approx 0.4286 \\end{array} $\n",
    "\n",
    "$ R = \\begin{array}{rc} & \\begin{matrix}S_1\\qquad&S_2\\qquad&S_3\\qquad&S_4\\qquad&S_5\\end{matrix} \\\\ \\begin{matrix}S_1\\\\S_2\\\\S_3\\\\S_4\\\\S_5\\end{matrix} & \\begin{bmatrix}1&0.7/1.3&0.4/1.6&0.7/1.3&0.7/1.3\\\\0.7/1.3&1&0.6/1.4&0.4/1.6&0.5/1.5\\\\0.4/1.6&0.6/1.4&1&0.2/1.8&0.3/1.7\\\\0.7/1.3&0.4/1.6&0.2/1.8&1&0.9/1.1\\\\0.7/1.3&0.5/1.5&0.3/1.7&0.9/1.1&1\\end{bmatrix} \\end{array}$\n",
    "\n",
    "$ \\quad\\approx\\hspace{2.5em} \\begin{bmatrix}1&0.5385&0.25&0.5385&0.5385\\\\0.5385&1&0.4286&0.25&0.3333\\\\0.25&0.4286&1&0.1111&0.1765\\\\0.5385&0.25&0.1111&1&0.8182\\\\0.5385&0.3333&0.1765&0.8182&1\\end{bmatrix} $"
   ]
  },
  {
   "cell_type": "markdown",
   "metadata": {},
   "source": [
    "### Exercise 3.22"
   ]
  },
  {
   "cell_type": "markdown",
   "metadata": {},
   "source": [
    "$ \\begin{matrix} & \\begin{array}{ccccc}I_1&I_2&I_3&I_4&I_5\\end{array} \\\\ \\begin{array}{lll}\\text{Tectonic fracture}\\\\\\text{Regional fracture}\\\\\\text{Other fracture}\\end{array} & \\begin{bmatrix}0.6&0.6&0.3&0.5&0.2\\\\0.3&0.1&0.2&0.2&0.6\\\\0.1&0.3&0.5&0.3&0.2\\end{bmatrix} \\end{matrix}$\n",
    "\n",
    "#### Find the similarity relation"
   ]
  },
  {
   "cell_type": "markdown",
   "metadata": {},
   "source": [
    "\n",
    "$ R = \\begin{matrix}&I_1&I_2&I_3&I_4&I_5\\\\I_1&1&0.8/1.2&0.6/1.4&0.8/1.2&0.6/1.4\\\\I_2&0.8/1.2&1&0.7/1.3&0.9/1.1&0.5/1.5\\\\I_3&0.6/1.4&0.7/1.3&1&0.8/1.2&0.6/1.4\\\\I_4&0.8/1.2&0.9/1.1&0.8/1.2&1&0.6/1.4\\\\I_5&0.6/1.4&0.5/1.5&0.6/1.4&0.6/1.4&1\\end{matrix} $\n",
    "\n",
    "$ R = \\begin{bmatrix}1&2/3&3/7&2/3&3/7\\\\2/3&1&7/13&9/11&1/3\\\\3/7&7/13&1&2/3&3/7\\\\2/3&9/11&2/3&1&3/7\\\\3/7&1/3&3/7&3/7&1\\end{bmatrix} \\approx \\begin{bmatrix}1&0.6667&0.4286&0.6667&0.4286\\\\0.6667&1&0.5385&0.8182&0.3333\\\\0.4286&0.5385&1&0.6667&0.4286\\\\0.6667&0.8182&0.6667&1&0.4286\\\\0.4286&0.3333&0.4286&0.4286&1\\end{bmatrix} $\n"
   ]
  },
  {
   "cell_type": "markdown",
   "metadata": {},
   "source": [
    "#### Find its associated equivalence relation"
   ]
  },
  {
   "cell_type": "markdown",
   "metadata": {},
   "source": [
    "\n",
    "$ R^2 = R \\circ R $<br>\n",
    "$ \\begin{array}{rl} \\mu_{R^2}(I_2,I_3) =& \\max\\limits_{k \\in [1,5]}[\\min(\\mu_R(I_2,I_k),\\mu_R(I_k,I_3))]\\\\ =& \\max(3/7,7/13,7/13,2/3,1/3)\\\\ =& 2/3 \\end{array} $\n",
    "\n",
    "$ R^2 = \\begin{bmatrix}1&2/3&2/3&2/3&3/7\\\\2/3&1&2/3&9/11&3/7\\\\2/3&2/3&1&2/3&3/7\\\\2/3&9/11&2/3&1&3/7\\\\3/7&3/7&3/7&3/7&1\\end{bmatrix} $\n",
    "\n",
    "$ R^3 = R^2 \\circ R = \\begin{bmatrix}1&2/3&2/3&2/3&3/7\\\\2/3&1&2/3&9/11&3/7\\\\2/3&2/3&1&2/3&3/7\\\\2/3&9/11&2/3&1&3/7\\\\3/7&3/7&3/7&3/7&1\\end{bmatrix} = R^2 = R^4 $"
   ]
  }
 ],
 "metadata": {
  "interpreter": {
   "hash": "f2575392019334285e0602a4035eec46b9260ee4c95297ea34ade6e3c8b8fcaf"
  },
  "kernelspec": {
   "display_name": "Python 3 (ipykernel)",
   "language": "python",
   "name": "python3"
  },
  "language_info": {
   "codemirror_mode": {
    "name": "ipython",
    "version": 3
   },
   "file_extension": ".py",
   "mimetype": "text/x-python",
   "name": "python",
   "nbconvert_exporter": "python",
   "pygments_lexer": "ipython3",
   "version": "3.8.10"
  }
 },
 "nbformat": 4,
 "nbformat_minor": 2
}
